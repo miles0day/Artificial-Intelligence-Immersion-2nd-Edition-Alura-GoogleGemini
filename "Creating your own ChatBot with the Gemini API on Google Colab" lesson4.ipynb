{
  "nbformat": 4,
  "nbformat_minor": 0,
  "metadata": {
    "colab": {
      "provenance": [],
      "authorship_tag": "ABX9TyNuVxwSChYXlTi0+jYqp4qg",
      "include_colab_link": true
    },
    "kernelspec": {
      "name": "python3",
      "display_name": "Python 3"
    },
    "language_info": {
      "name": "python"
    }
  },
  "cells": [
    {
      "cell_type": "markdown",
      "metadata": {
        "id": "view-in-github",
        "colab_type": "text"
      },
      "source": [
        "<a href=\"https://colab.research.google.com/github/miles0day/Artificial-Intelligence-Immersion-2nd-Edition-Alura-GoogleGemini/blob/main/%22Creating%20your%20own%20ChatBot%20with%20the%20Gemini%20API%20on%20Google%20Colab%22%20lesson4.ipynb\" target=\"_parent\"><img src=\"https://colab.research.google.com/assets/colab-badge.svg\" alt=\"Open In Colab\"/></a>"
      ]
    },
    {
      "cell_type": "code",
      "execution_count": 10,
      "metadata": {
        "colab": {
          "base_uri": "https://localhost:8080/",
          "height": 382
        },
        "id": "k70NzPZtgkOY",
        "outputId": "3a0a277e-3652-4e57-a6d5-ef8e40120a0f"
      },
      "outputs": [
        {
          "output_type": "stream",
          "name": "stdout",
          "text": [
            "Conversa iniciada. Digite 'fim' para encerrar.\n",
            "Você: Qunatas galáxias existem e qual é o nome da nossa?\n",
            "Resposta:  **Número de Galáxias**\n",
            "\n",
            "Estima-se que existam cerca de 2 trilhões de galáxias no universo observável.\n",
            "\n",
            "**Nome da Nossa Galáxia**\n",
            "\n",
            "Nossa galáxia é chamada de **Via Láctea**.\n",
            "Você: Какова столица Японии и какая страна создала интернет? США, Россия, Китай?\n",
            "Resposta:  **Столица Японии:** Токио\n",
            "\n",
            "**Страна, создавшая интернет:** США\n",
            "\n",
            "Интернет был разработан в Соединенных Штатах в конце 1960-х годов в рамках исследовательского проекта, финансируемого Министерством обороны США.\n",
            "Você: End\n",
            "Resposta:  Спасибо за общение со мной. Было приятно отвечать на ваши вопросы.\n",
            "\n",
            "Всего хорошего!\n",
            "Você: fim\n",
            "Conversa encerrada.\n"
          ]
        }
      ],
      "source": [
        "import google.generativeai as genai\n",
        "\n",
        "GOOGLE_API_KEY = \"Opaaa cole sua API_KEY aqui\"\n",
        "genai.configure(api_key=GOOGLE_API_KEY)\n",
        "\n",
        "generation_config = {\n",
        "    \"candidate_count\": 1,\n",
        "    \"temperature\": 0.5,\n",
        "}\n",
        "\n",
        "#Configurações do bot\n",
        "safety_settings = {\n",
        "    \"HARASSMENT\": \"BLOCK_NONE\",\n",
        "    \"HATE\": \"BLOCK_NONE\",\n",
        "    \"SEXUAL\": \"BLOCK_NONE\",\n",
        "    \"DANGEROUS\": \"BLOCK_NONE\",\n",
        "}\n",
        "# Inicializando o modelo\n",
        "model = genai.GenerativeModel(model_name=\"gemini-1.0-pro\",\n",
        "                              generation_config=generation_config,\n",
        "                              safety_settings=safety_settings)\n",
        "\n",
        "chat = model.start_chat(history=[])\n",
        "\n",
        "print(\"Conversa iniciada. Digite 'fim' para encerrar.\")\n",
        "\n",
        "while True:\n",
        "    prompt = input(\"Você: \")\n",
        "\n",
        "    if prompt.lower() == \"fim\":\n",
        "        print(\"Conversa encerrada.\")\n",
        "        break\n",
        "\n",
        "    response = chat.send_message(prompt)\n",
        "    print(\"Resposta: \", response.text)\n"
      ]
    }
  ]
}